{
 "cells": [
  {
   "cell_type": "code",
   "execution_count": 1,
   "metadata": {},
   "outputs": [],
   "source": [
    "import numpy as np\n",
    "from sklearn import svm\n",
    "\n",
    "import matplotlib.pyplot as plt\n",
    "import matplotlib.font_manager\n",
    "import seaborn as sns\n",
    "\n",
    "from matplotlib import cm\n",
    "from celluloid import Camera"
   ]
  },
  {
   "cell_type": "code",
   "execution_count": 83,
   "metadata": {},
   "outputs": [],
   "source": [
    "limInfX, limSupX = 0, 50\n",
    "limInfY, limSupY = 0, 50\n",
    "\n",
    "mean_x, mean_y = (limSupX - limInfX)/2, (limSupY - limInfY)/2\n",
    "r1, r2 = 8, 12\n",
    "\n",
    "scale = 1000\n",
    "training_m = int(0.8 * scale)\n",
    "normal_m = int(0.1 * scale)\n",
    "abnormal_m = int(0.1 * scale)\n",
    "\n",
    "nu = 0.0005\n",
    "\n",
    "size_ = 15"
   ]
  },
  {
   "cell_type": "code",
   "execution_count": 84,
   "metadata": {},
   "outputs": [],
   "source": [
    "# Observaciones de entrenamiento (en forma de donut)\n",
    "\n",
    "x_train, y_train = [], []\n",
    "for _ in range(training_m):\n",
    "    length = np.sqrt(np.random.uniform(r1**2, r2**2))\n",
    "    angle = np.pi * np.random.uniform(0, 1.75)\n",
    "\n",
    "    x = mean_x + length * np.cos(angle)\n",
    "    y = mean_y + length * np.sin(angle)\n",
    "    \n",
    "    x_train.append(x)\n",
    "    y_train.append(y)\n",
    "\n",
    "X_train = np.c_[x_train, y_train]"
   ]
  },
  {
   "cell_type": "code",
   "execution_count": 85,
   "metadata": {},
   "outputs": [],
   "source": [
    "# Entrenamos el modelo\n",
    "clf = svm.OneClassSVM(nu=nu, kernel=\"rbf\", gamma=0.1)\n",
    "clf.fit(X_train)\n",
    "\n",
    "# Hacemos predicciones\n",
    "y_train = clf.predict(X_train)"
   ]
  },
  {
   "cell_type": "code",
   "execution_count": 86,
   "metadata": {},
   "outputs": [],
   "source": [
    "xx, yy = np.meshgrid(np.linspace(limInfX, limSupX, (limSupX - limInfX)*10),\n",
    "                     np.linspace(limInfY, limSupY, (limSupX - limInfX)*10))\n",
    "\n",
    "Z = clf.decision_function(np.c_[xx.ravel(), yy.ravel()])\n",
    "Z = Z.reshape(xx.shape)"
   ]
  },
  {
   "cell_type": "markdown",
   "metadata": {},
   "source": [
    "Generamos la simulación"
   ]
  },
  {
   "cell_type": "code",
   "execution_count": 104,
   "metadata": {},
   "outputs": [
    {
     "name": "stderr",
     "output_type": "stream",
     "text": [
      "MovieWriter ffmpeg unavailable; using Pillow instead.\n"
     ]
    },
    {
     "data": {
      "image/png": "[encoded data removed]",
      "text/plain": [
       "<Figure size 576x396 with 1 Axes>"
      ]
     },
     "metadata": {},
     "output_type": "display_data"
    }
   ],
   "source": [
    "plt.style.use('seaborn')\n",
    "\n",
    "colour = 'blue'\n",
    "mov_module = 0.2\n",
    "escape_module = 6\n",
    "size_ = 15\n",
    "\n",
    "camera = Camera(plt.figure())\n",
    "sample_size = int(0.25 * training_m)\n",
    "points = X_train[np.random.randint(X_train.shape[0], size=sample_size), :]\n",
    "\n",
    "frames = 15\n",
    "for _ in range(frames):\n",
    "    mov_x = mov_module * np.random.randn(len(points))\n",
    "    mov_y = mov_module * np.random.randn(len(points))\n",
    "    movement = np.c_[mov_x, mov_y]\n",
    "    \n",
    "    points += movement\n",
    "    plt.scatter(points[:, 0], points[:, 1], c=colour, s=size_, edgecolors='k')\n",
    "    \n",
    "    camera.snap()\n",
    "    \n",
    "frames = 15\n",
    "for _ in range(frames):\n",
    "    \n",
    "    # Generamos movimiento aleatorio\n",
    "    mov_x = mov_module * np.random.randn(len(points))\n",
    "    mov_y = mov_module * np.random.randn(len(points))\n",
    "    movement = np.c_[mov_x, mov_y]\n",
    "    \n",
    "    points += movement\n",
    "    plt.scatter(points[:, 0], points[:, 1], c=colour, s=size_, edgecolors='k')\n",
    "    \n",
    "    # Graficamos las secciones en que la SVM considera una observación como \"normal\"\n",
    "    a = plt.contour(xx, yy, Z, levels=[0], linewidths=2, colors='darkred')\n",
    "    plt.contour(xx, yy, Z, levels=[0, Z.max()], colors='red')\n",
    "    \n",
    "    camera.snap()\n",
    "    \n",
    "frames = 5\n",
    "for _ in range(frames):\n",
    "    \n",
    "    # Generamos movimiento aleatorio\n",
    "    mov_x = mov_module * np.random.randn(len(points))\n",
    "    mov_y = mov_module * np.random.randn(len(points))\n",
    "    movement = np.c_[mov_x, mov_y]\n",
    "    \n",
    "    # Generamos movimiento alejándose del centro\n",
    "    escape = escape_module * (points - [mean_x, mean_y]) * np.random.uniform() / np.linalg.norm(points - [mean_x, mean_y])\n",
    "    \n",
    "    points += escape\n",
    "    points += movement\n",
    "    plt.scatter(points[:, 0], points[:, 1], c=colour, s=size_, edgecolors='k')\n",
    "    \n",
    "    # Graficamos las secciones en que la SVM considera una observación como \"normal\"\n",
    "    a = plt.contour(xx, yy, Z, levels=[0], linewidths=2, colors='darkred')\n",
    "    plt.contour(xx, yy, Z, levels=[0, Z.max()], colors='red')\n",
    "    \n",
    "    camera.snap()\n",
    "\n",
    "frames = 15\n",
    "for j in range(frames):\n",
    "    \n",
    "    # Generamos movimiento aleatorio\n",
    "    mov_x = mov_module * np.random.randn(len(points))\n",
    "    mov_y = mov_module * np.random.randn(len(points))\n",
    "    movement = np.c_[mov_x, mov_y]\n",
    "    \n",
    "    # Generamos movimiento alejándose del centro\n",
    "    escape = escape_module * (points - [mean_x, mean_y]) * np.random.uniform() / np.linalg.norm(points - [mean_x, mean_y])\n",
    "    \n",
    "    points += escape\n",
    "    points += movement\n",
    "    plt.scatter(points[:, 0], points[:, 1], c=colour, s=size_, edgecolors='k')\n",
    "    \n",
    "    # Graficamos las secciones en que la SVM considera una observación como \"normal\"\n",
    "    a = plt.contour(xx, yy, Z, levels=[0], linewidths=2, colors='darkred')\n",
    "    plt.contour(xx, yy, Z, levels=[0, Z.max()], colors='red')\n",
    "    \n",
    "    # Agregamos etiqueta de alerta\n",
    "    if j % 3:\n",
    "        plt.text(26, 47, 'ALERTA DE COMPORTAMIENTO ANÓMALO')\n",
    "    \n",
    "    camera.snap()\n",
    "\n",
    "    \n",
    "anim = camera.animate(blit=True)\n",
    "anim.save('animal_movement.gif')"
   ]
  },
  {
   "cell_type": "code",
   "execution_count": null,
   "metadata": {},
   "outputs": [],
   "source": []
  }
 ],
 "metadata": {
  "kernelspec": {
   "display_name": "Python 3",
   "language": "python",
   "name": "python3"
  },
  "language_info": {
   "codemirror_mode": {
    "name": "ipython",
    "version": 3
   },
   "file_extension": ".py",
   "mimetype": "text/x-python",
   "name": "python",
   "nbconvert_exporter": "python",
   "pygments_lexer": "ipython3",
   "version": "3.8.5"
  }
 },
 "nbformat": 4,
 "nbformat_minor": 4
}
